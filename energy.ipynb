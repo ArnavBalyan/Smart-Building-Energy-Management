{
 "cells": [
  {
   "cell_type": "markdown",
   "metadata": {
    "_cell_guid": "a7542f31-299b-4665-9dcc-348d521db6d2",
    "_uuid": "83a16b66f5d957e96464634d8639a52e74538e36"
   },
   "source": [
    "# Smart Infrastructure Energy Managment"
   ]
  },
  {
   "cell_type": "code",
   "execution_count": 1,
   "metadata": {
    "_cell_guid": "eac8903f-5440-4220-98ea-38f1e4c559a1",
    "_uuid": "db3d2c16684cf08956ab6494ad67e7a1e7027f73"
   },
   "outputs": [
    {
     "name": "stderr",
     "output_type": "stream",
     "text": [
      "Using TensorFlow backend.\n"
     ]
    }
   ],
   "source": [
    "import numpy\n",
    "import pandas\n",
    "from sklearn.preprocessing import MinMaxScaler\n",
    "\n",
    "from sklearn.feature_selection import RFE\n",
    "from sklearn.ensemble import ExtraTreesRegressor\n",
    "\n",
    "import matplotlib.pyplot as plt\n",
    "from pandas.plotting import scatter_matrix\n",
    "\n",
    "from sklearn.model_selection import cross_validate\n",
    "from sklearn.linear_model import LinearRegression\n",
    "from sklearn.linear_model import Ridge\n",
    "from sklearn.linear_model import Lasso\n",
    "from sklearn.linear_model import ElasticNet\n",
    "from sklearn.ensemble import BaggingRegressor\n",
    "from sklearn.ensemble import RandomForestRegressor\n",
    "from sklearn.tree import DecisionTreeRegressor\n",
    "from sklearn.neighbors import KNeighborsRegressor\n",
    "from sklearn.svm import SVR\n",
    "\n",
    "\n",
    "\n",
    "from keras.models import Sequential\n",
    "from keras.layers import Dense\n",
    "from keras.layers import Dropout\n",
    "from keras.utils import np_utils\n",
    "from sklearn.model_selection import StratifiedKFold\n",
    "from keras.constraints import maxnorm\n",
    "#from sklearn.metrics import explained_variance_score\n",
    "#from sklearn.metrics import mean_squared_error\n",
    "from sklearn.metrics import mean_absolute_error\n",
    "\n",
    "\n",
    "\n",
    "# fix random seed for reproducibility\n",
    "seed = 7\n",
    "numpy.random.seed(seed)\n"
   ]
  },
  {
   "cell_type": "code",
   "execution_count": 2,
   "metadata": {
    "_cell_guid": "a04b21a6-c8f8-4939-9fb4-a144b2b5ebbb",
    "_uuid": "857370dd451284091fe6e2cdf21eb380736a6f0e"
   },
   "outputs": [],
   "source": [
    "# load dataset\n",
    "dataframe = pandas.read_csv(\"energy_dataset.csv\")\n",
    "\n",
    "# Assign names to Columns\n",
    "dataframe.columns = ['relative_compactness', 'surface_area', 'wall_area', 'roof_area', 'overall_height', 'orientation', 'glazing_area', 'glazing_area_distribution', 'heating_load', 'cooling_load']"
   ]
  },
  {
   "cell_type": "code",
   "execution_count": 3,
   "metadata": {
    "_cell_guid": "c23b4e9f-aa5d-48dd-b0a6-0de62cd69a87",
    "_uuid": "e72b57846bdca47d0a4c34323567d3a43953e727"
   },
   "outputs": [
    {
     "name": "stdout",
     "output_type": "stream",
     "text": [
      "Head:    relative_compactness  surface_area  wall_area  roof_area  overall_height  \\\n",
      "0                  0.98         514.5      294.0     110.25             7.0   \n",
      "1                  0.98         514.5      294.0     110.25             7.0   \n",
      "2                  0.98         514.5      294.0     110.25             7.0   \n",
      "3                  0.98         514.5      294.0     110.25             7.0   \n",
      "4                  0.90         563.5      318.5     122.50             7.0   \n",
      "\n",
      "   orientation  glazing_area  glazing_area_distribution  heating_load  \\\n",
      "0            2           0.0                          0         15.55   \n",
      "1            3           0.0                          0         15.55   \n",
      "2            4           0.0                          0         15.55   \n",
      "3            5           0.0                          0         15.55   \n",
      "4            2           0.0                          0         20.84   \n",
      "\n",
      "   cooling_load  \n",
      "0         21.33  \n",
      "1         21.33  \n",
      "2         21.33  \n",
      "3         21.33  \n",
      "4         28.28  \n"
     ]
    }
   ],
   "source": [
    "print(\"Head:\", dataframe.head())"
   ]
  },
  {
   "cell_type": "code",
   "execution_count": 4,
   "metadata": {
    "_cell_guid": "c17e7d75-32f5-43b1-a624-8b3090636e70",
    "_uuid": "35d642e754d18c73a4f94c67dbd4258f0b085934"
   },
   "outputs": [
    {
     "name": "stdout",
     "output_type": "stream",
     "text": [
      "Statistical Description:        relative_compactness  surface_area   wall_area   roof_area  \\\n",
      "count            768.000000    768.000000  768.000000  768.000000   \n",
      "mean               0.764167    671.708333  318.500000  176.604167   \n",
      "std                0.105777     88.086116   43.626481   45.165950   \n",
      "min                0.620000    514.500000  245.000000  110.250000   \n",
      "25%                0.682500    606.375000  294.000000  140.875000   \n",
      "50%                0.750000    673.750000  318.500000  183.750000   \n",
      "75%                0.830000    741.125000  343.000000  220.500000   \n",
      "max                0.980000    808.500000  416.500000  220.500000   \n",
      "\n",
      "       overall_height  orientation  glazing_area  glazing_area_distribution  \\\n",
      "count       768.00000   768.000000    768.000000                  768.00000   \n",
      "mean          5.25000     3.500000      0.234375                    2.81250   \n",
      "std           1.75114     1.118763      0.133221                    1.55096   \n",
      "min           3.50000     2.000000      0.000000                    0.00000   \n",
      "25%           3.50000     2.750000      0.100000                    1.75000   \n",
      "50%           5.25000     3.500000      0.250000                    3.00000   \n",
      "75%           7.00000     4.250000      0.400000                    4.00000   \n",
      "max           7.00000     5.000000      0.400000                    5.00000   \n",
      "\n",
      "       heating_load  cooling_load  \n",
      "count    768.000000    768.000000  \n",
      "mean      22.307201     24.587760  \n",
      "std       10.090196      9.513306  \n",
      "min        6.010000     10.900000  \n",
      "25%       12.992500     15.620000  \n",
      "50%       18.950000     22.080000  \n",
      "75%       31.667500     33.132500  \n",
      "max       43.100000     48.030000  \n"
     ]
    }
   ],
   "source": [
    "print(\"Statistical Description:\", dataframe.describe())\n"
   ]
  },
  {
   "cell_type": "code",
   "execution_count": 5,
   "metadata": {
    "_cell_guid": "39f1916c-418b-4d36-bde4-7b54222abfa7",
    "_uuid": "81a515b22f4fbd8a531a91b95023e36667fa605f"
   },
   "outputs": [
    {
     "name": "stdout",
     "output_type": "stream",
     "text": [
      "Shape: (768, 10)\n"
     ]
    }
   ],
   "source": [
    "\n",
    "print(\"Shape:\", dataframe.shape)\n"
   ]
  },
  {
   "cell_type": "code",
   "execution_count": 6,
   "metadata": {
    "_cell_guid": "11534c37-bd0d-446a-9f1b-257a026c760b",
    "_uuid": "45b72ff886fbd436e577bfb09be600d18c43fa02"
   },
   "outputs": [
    {
     "name": "stdout",
     "output_type": "stream",
     "text": [
      "Data Types: relative_compactness         float64\n",
      "surface_area                 float64\n",
      "wall_area                    float64\n",
      "roof_area                    float64\n",
      "overall_height               float64\n",
      "orientation                    int64\n",
      "glazing_area                 float64\n",
      "glazing_area_distribution      int64\n",
      "heating_load                 float64\n",
      "cooling_load                 float64\n",
      "dtype: object\n"
     ]
    }
   ],
   "source": [
    "\n",
    "print(\"Data Types:\", dataframe.dtypes)\n"
   ]
  },
  {
   "cell_type": "markdown",
   "metadata": {
    "_cell_guid": "230798ed-b69e-4c82-bd32-6acc3296c5ea",
    "_uuid": "626550bca0b30b8475d5b51faf95e55d8c10a4b7"
   },
   "source": [
    "'overall_height' has the highest correlation with 'heating_load' and 'cooling_load' (which is a positive correlation), followed by 'roof_area' for both outputs\n",
    " which is a negative correlation, 'orientation' has the least correlation "
   ]
  },
  {
   "cell_type": "code",
   "execution_count": 7,
   "metadata": {
    "_cell_guid": "b1d8c08a-2746-45b9-abeb-beb488bc1234",
    "_uuid": "823b0d354e78e463b4eebf266101a1c5c371a3bd"
   },
   "outputs": [],
   "source": [
    "dataset = dataframe.values\n",
    "\n",
    "\n",
    "X = dataset[:,0:8]\n",
    "Y = dataset[:,8]\n",
    "Y2 = dataset[:,9]"
   ]
  },
  {
   "cell_type": "code",
   "execution_count": 8,
   "metadata": {
    "_cell_guid": "e40bd0b2-7686-448b-ad3f-f778f40207a1",
    "_uuid": "157316c76aef47e78712ca7f085b3bc418b946e1"
   },
   "outputs": [
    {
     "name": "stdout",
     "output_type": "stream",
     "text": [
      "Number of Features:  3\n",
      "Selected Features:  [False  True False  True  True False False False]\n",
      "Feature Ranking:  [4 1 3 1 1 6 2 5]\n"
     ]
    }
   ],
   "source": [
    "#Feature Selection\n",
    "model = ExtraTreesRegressor()\n",
    "rfe = RFE(model, 3)\n",
    "fit = rfe.fit(X, Y)\n",
    "\n",
    "print(\"Number of Features: \", fit.n_features_)\n",
    "print(\"Selected Features: \", fit.support_)\n",
    "print(\"Feature Ranking: \", fit.ranking_) \n",
    "\n"
   ]
  },
  {
   "cell_type": "markdown",
   "metadata": {
    "_cell_guid": "e5f20596-bab2-4b19-ba24-ee200d2e6bcc",
    "_uuid": "7bee0f6553d8b6b55e786376edcbb388f860d583"
   },
   "source": [
    "'wall_area', 'roof_area' and 'overall_height' were top 3 selected features/feature combination for predicting 'heating_load'\n",
    " using Recursive Feature Elimination, the 2nd and 3rd selected features were atually among the attributes with the highest correlation with the  'heating_load'"
   ]
  },
  {
   "cell_type": "code",
   "execution_count": 9,
   "metadata": {
    "_cell_guid": "77faa788-b708-4314-868d-20b124f97343",
    "_uuid": "b8e4323b8b709f62fed419ad6b4642b0b32d1af8"
   },
   "outputs": [
    {
     "name": "stdout",
     "output_type": "stream",
     "text": [
      "Number of Features:  3\n",
      "Selected Features:  [ True False  True False  True False False False]\n",
      "Feature Ranking:  [1 3 1 6 1 5 2 4]\n"
     ]
    }
   ],
   "source": [
    "#Feature Selection\n",
    "model = ExtraTreesRegressor()\n",
    "rfe = RFE(model, 3)\n",
    "fit = rfe.fit(X, Y2)\n",
    "\n",
    "print(\"Number of Features: \", fit.n_features_)\n",
    "print(\"Selected Features: \", fit.support_)\n",
    "print(\"Feature Ranking: \", fit.ranking_) \n"
   ]
  },
  {
   "cell_type": "markdown",
   "metadata": {
    "_cell_guid": "2c00d9b6-b5d7-4733-8ce7-a69c9f26a480",
    "_uuid": "f5b5d36b30983249fc755f410d4306cd516bd499"
   },
   "source": [
    "'wall_area', 'glazing_area' and 'overall_height' were top 3 selected features/feature combination for predicting 'cooling_load'\n",
    "using Recursive Feature Elimination"
   ]
  },
  {
   "cell_type": "code",
   "execution_count": 10,
   "metadata": {
    "_cell_guid": "cd580360-c2fd-4cfb-b175-e068085d8e8e",
    "_uuid": "be70483390992eedbe4bcbd484a99d27e6b692d8"
   },
   "outputs": [
    {
     "data": {
      "text/plain": [
       "(array([ 20., 187., 153.,  39.,  39.,  59.,  83.,  83.,  59.,  46.]),\n",
       " array([ 6.01 ,  9.719, 13.428, 17.137, 20.846, 24.555, 28.264, 31.973,\n",
       "        35.682, 39.391, 43.1  ]),\n",
       " <a list of 10 Patch objects>)"
      ]
     },
     "execution_count": 10,
     "metadata": {},
     "output_type": "execute_result"
    },
    {
     "data": {
      "image/png": "[encoded data removed]",
      "text/plain": [
       "<Figure size 432x288 with 1 Axes>"
      ]
     },
     "metadata": {
      "needs_background": "light"
     },
     "output_type": "display_data"
    }
   ],
   "source": [
    "plt.hist((dataframe.heating_load))\n"
   ]
  },
  {
   "cell_type": "code",
   "execution_count": 11,
   "metadata": {
    "_cell_guid": "e4858f97-c2a5-4bb9-a5ca-8fd125d8a33d",
    "_uuid": "4ab34b6a28ca30d2efd27489689bbf0951fe8413"
   },
   "outputs": [
    {
     "data": {
      "text/plain": [
       "(array([118., 204.,  61.,  29.,  73.,  94.,  98.,  56.,  21.,  14.]),\n",
       " array([10.9  , 14.613, 18.326, 22.039, 25.752, 29.465, 33.178, 36.891,\n",
       "        40.604, 44.317, 48.03 ]),\n",
       " <a list of 10 Patch objects>)"
      ]
     },
     "execution_count": 11,
     "metadata": {},
     "output_type": "execute_result"
    },
    {
     "data": {
      "image/png": "[encoded data removed]",
      "text/plain": [
       "<Figure size 432x288 with 1 Axes>"
      ]
     },
     "metadata": {
      "needs_background": "light"
     },
     "output_type": "display_data"
    }
   ],
   "source": [
    "plt.hist((dataframe.cooling_load))"
   ]
  },
  {
   "cell_type": "code",
   "execution_count": 12,
   "metadata": {
    "_cell_guid": "73b98c12-9652-41f7-b95b-b5db5bc537ac",
    "_uuid": "baecfa96f8fb9c7e4503b25bdd50cdaf08a23f37"
   },
   "outputs": [
    {
     "data": {
      "text/plain": [
       "(array([118., 204.,  61.,  29.,  73.,  94.,  98.,  56.,  21.,  14.]),\n",
       " array([10.9  , 14.613, 18.326, 22.039, 25.752, 29.465, 33.178, 36.891,\n",
       "        40.604, 44.317, 48.03 ]),\n",
       " <a list of 10 Patch objects>)"
      ]
     },
     "execution_count": 12,
     "metadata": {},
     "output_type": "execute_result"
    },
    {
     "data": {
      "image/png": "[encoded data removed]",
      "text/plain": [
       "<Figure size 432x288 with 1 Axes>"
      ]
     },
     "metadata": {
      "needs_background": "light"
     },
     "output_type": "display_data"
    }
   ],
   "source": [
    "plt.hist((dataframe.heating_load))\n",
    "\n",
    "plt.hist((dataframe.cooling_load))\n"
   ]
  },
  {
   "cell_type": "markdown",
   "metadata": {
    "_cell_guid": "d62bcb32-a9cc-4852-bd51-6adbcbbdf71e",
    "_uuid": "35ea5a649b38cc5db278c730113d2cdbf20531d0"
   },
   "source": [
    "Most of the dataset's samples fall between 10 and 20 of both 'heating_load' and 'cooling_load' regressional output classes, with a positive skew"
   ]
  },
  {
   "cell_type": "code",
   "execution_count": 13,
   "metadata": {
    "_cell_guid": "f111ffcf-3a77-426b-82f2-7845bb658410",
    "_uuid": "83d746c86506eafb9c96eef4f993554ab79a1e8d"
   },
   "outputs": [
    {
     "name": "stderr",
     "output_type": "stream",
     "text": [
      "C:\\Users\\Arnav\\Anaconda3\\envs\\gpu\\lib\\site-packages\\pandas\\plotting\\_matplotlib\\tools.py:298: MatplotlibDeprecationWarning: \n",
      "The rowNum attribute was deprecated in Matplotlib 3.2 and will be removed two minor releases later. Use ax.get_subplotspec().rowspan.start instead.\n",
      "  layout[ax.rowNum, ax.colNum] = ax.get_visible()\n",
      "C:\\Users\\Arnav\\Anaconda3\\envs\\gpu\\lib\\site-packages\\pandas\\plotting\\_matplotlib\\tools.py:298: MatplotlibDeprecationWarning: \n",
      "The colNum attribute was deprecated in Matplotlib 3.2 and will be removed two minor releases later. Use ax.get_subplotspec().colspan.start instead.\n",
      "  layout[ax.rowNum, ax.colNum] = ax.get_visible()\n",
      "C:\\Users\\Arnav\\Anaconda3\\envs\\gpu\\lib\\site-packages\\pandas\\plotting\\_matplotlib\\tools.py:304: MatplotlibDeprecationWarning: \n",
      "The rowNum attribute was deprecated in Matplotlib 3.2 and will be removed two minor releases later. Use ax.get_subplotspec().rowspan.start instead.\n",
      "  if not layout[ax.rowNum + 1, ax.colNum]:\n",
      "C:\\Users\\Arnav\\Anaconda3\\envs\\gpu\\lib\\site-packages\\pandas\\plotting\\_matplotlib\\tools.py:304: MatplotlibDeprecationWarning: \n",
      "The colNum attribute was deprecated in Matplotlib 3.2 and will be removed two minor releases later. Use ax.get_subplotspec().colspan.start instead.\n",
      "  if not layout[ax.rowNum + 1, ax.colNum]:\n",
      "C:\\Users\\Arnav\\Anaconda3\\envs\\gpu\\lib\\site-packages\\pandas\\plotting\\_matplotlib\\tools.py:298: MatplotlibDeprecationWarning: \n",
      "The rowNum attribute was deprecated in Matplotlib 3.2 and will be removed two minor releases later. Use ax.get_subplotspec().rowspan.start instead.\n",
      "  layout[ax.rowNum, ax.colNum] = ax.get_visible()\n",
      "C:\\Users\\Arnav\\Anaconda3\\envs\\gpu\\lib\\site-packages\\pandas\\plotting\\_matplotlib\\tools.py:298: MatplotlibDeprecationWarning: \n",
      "The colNum attribute was deprecated in Matplotlib 3.2 and will be removed two minor releases later. Use ax.get_subplotspec().colspan.start instead.\n",
      "  layout[ax.rowNum, ax.colNum] = ax.get_visible()\n",
      "C:\\Users\\Arnav\\Anaconda3\\envs\\gpu\\lib\\site-packages\\pandas\\plotting\\_matplotlib\\tools.py:304: MatplotlibDeprecationWarning: \n",
      "The rowNum attribute was deprecated in Matplotlib 3.2 and will be removed two minor releases later. Use ax.get_subplotspec().rowspan.start instead.\n",
      "  if not layout[ax.rowNum + 1, ax.colNum]:\n",
      "C:\\Users\\Arnav\\Anaconda3\\envs\\gpu\\lib\\site-packages\\pandas\\plotting\\_matplotlib\\tools.py:304: MatplotlibDeprecationWarning: \n",
      "The colNum attribute was deprecated in Matplotlib 3.2 and will be removed two minor releases later. Use ax.get_subplotspec().colspan.start instead.\n",
      "  if not layout[ax.rowNum + 1, ax.colNum]:\n"
     ]
    },
    {
     "data": {
      "text/plain": [
       "array([[<matplotlib.axes._subplots.AxesSubplot object at 0x000001748D122AC8>,\n",
       "        <matplotlib.axes._subplots.AxesSubplot object at 0x000001748D1A78C8>,\n",
       "        <matplotlib.axes._subplots.AxesSubplot object at 0x000001748D1DEF88>,\n",
       "        <matplotlib.axes._subplots.AxesSubplot object at 0x000001748D21AB08>],\n",
       "       [<matplotlib.axes._subplots.AxesSubplot object at 0x000001748D2549C8>,\n",
       "        <matplotlib.axes._subplots.AxesSubplot object at 0x000001748D28F788>,\n",
       "        <matplotlib.axes._subplots.AxesSubplot object at 0x000001748D2C7688>,\n",
       "        <matplotlib.axes._subplots.AxesSubplot object at 0x000001748D3033C8>],\n",
       "       [<matplotlib.axes._subplots.AxesSubplot object at 0x000001748D3035C8>,\n",
       "        <matplotlib.axes._subplots.AxesSubplot object at 0x000001748D339508>,\n",
       "        <matplotlib.axes._subplots.AxesSubplot object at 0x000001748D3A6FC8>,\n",
       "        <matplotlib.axes._subplots.AxesSubplot object at 0x000001748D3E2F48>]],\n",
       "      dtype=object)"
      ]
     },
     "execution_count": 13,
     "metadata": {},
     "output_type": "execute_result"
    },
    {
     "data": {
      "image/png": "[encoded data removed]",
      "text/plain": [
       "<Figure size 432x288 with 12 Axes>"
      ]
     },
     "metadata": {
      "needs_background": "light"
     },
     "output_type": "display_data"
    }
   ],
   "source": [
    "dataframe.plot(kind='density', subplots=True, layout=(3,4), sharex=False, sharey=False)"
   ]
  },
  {
   "cell_type": "markdown",
   "metadata": {
    "_cell_guid": "22f44191-9e19-4d95-aff3-077c93fb96cb",
    "_uuid": "a4d340f942eb6d472bc312286a07e3799c452dbf"
   },
   "source": [
    "Majority of the features have a positive skew except for a few, 'oreintation' and 'overall_height' have quite even distribution"
   ]
  },
  {
   "cell_type": "code",
   "execution_count": 14,
   "metadata": {
    "_cell_guid": "3076c5b8-6955-43c7-9618-62dc1b0e7121",
    "_uuid": "8dd03f6b41c57ca25bf9f34c1a80aa11ff860a4c"
   },
   "outputs": [
    {
     "name": "stderr",
     "output_type": "stream",
     "text": [
      "C:\\Users\\Arnav\\Anaconda3\\envs\\gpu\\lib\\site-packages\\pandas\\plotting\\_matplotlib\\tools.py:298: MatplotlibDeprecationWarning: \n",
      "The rowNum attribute was deprecated in Matplotlib 3.2 and will be removed two minor releases later. Use ax.get_subplotspec().rowspan.start instead.\n",
      "  layout[ax.rowNum, ax.colNum] = ax.get_visible()\n",
      "C:\\Users\\Arnav\\Anaconda3\\envs\\gpu\\lib\\site-packages\\pandas\\plotting\\_matplotlib\\tools.py:298: MatplotlibDeprecationWarning: \n",
      "The colNum attribute was deprecated in Matplotlib 3.2 and will be removed two minor releases later. Use ax.get_subplotspec().colspan.start instead.\n",
      "  layout[ax.rowNum, ax.colNum] = ax.get_visible()\n",
      "C:\\Users\\Arnav\\Anaconda3\\envs\\gpu\\lib\\site-packages\\pandas\\plotting\\_matplotlib\\tools.py:304: MatplotlibDeprecationWarning: \n",
      "The rowNum attribute was deprecated in Matplotlib 3.2 and will be removed two minor releases later. Use ax.get_subplotspec().rowspan.start instead.\n",
      "  if not layout[ax.rowNum + 1, ax.colNum]:\n",
      "C:\\Users\\Arnav\\Anaconda3\\envs\\gpu\\lib\\site-packages\\pandas\\plotting\\_matplotlib\\tools.py:304: MatplotlibDeprecationWarning: \n",
      "The colNum attribute was deprecated in Matplotlib 3.2 and will be removed two minor releases later. Use ax.get_subplotspec().colspan.start instead.\n",
      "  if not layout[ax.rowNum + 1, ax.colNum]:\n"
     ]
    },
    {
     "data": {
      "text/plain": [
       "relative_compactness            AxesSubplot(0.125,0.657941;0.168478x0.222059)\n",
       "surface_area                 AxesSubplot(0.327174,0.657941;0.168478x0.222059)\n",
       "wall_area                    AxesSubplot(0.529348,0.657941;0.168478x0.222059)\n",
       "roof_area                    AxesSubplot(0.731522,0.657941;0.168478x0.222059)\n",
       "overall_height                  AxesSubplot(0.125,0.391471;0.168478x0.222059)\n",
       "orientation                  AxesSubplot(0.327174,0.391471;0.168478x0.222059)\n",
       "glazing_area                 AxesSubplot(0.529348,0.391471;0.168478x0.222059)\n",
       "glazing_area_distribution    AxesSubplot(0.731522,0.391471;0.168478x0.222059)\n",
       "heating_load                       AxesSubplot(0.125,0.125;0.168478x0.222059)\n",
       "cooling_load                    AxesSubplot(0.327174,0.125;0.168478x0.222059)\n",
       "dtype: object"
      ]
     },
     "execution_count": 14,
     "metadata": {},
     "output_type": "execute_result"
    },
    {
     "data": {
      "image/png": "[encoded data removed]",
      "text/plain": [
       "<Figure size 432x432 with 6 Axes>"
      ]
     },
     "metadata": {
      "needs_background": "light"
     },
     "output_type": "display_data"
    },
    {
     "data": {
      "image/png": "[encoded data removed]",
      "text/plain": [
       "<Figure size 432x288 with 12 Axes>"
      ]
     },
     "metadata": {
      "needs_background": "light"
     },
     "output_type": "display_data"
    }
   ],
   "source": [
    "axes = plt.subplots(nrows=2, ncols=3, figsize=(6, 6))\n",
    "dataframe.plot(kind='box', subplots=True, layout=(3,4), sharex=False, sharey=False)"
   ]
  },
  {
   "cell_type": "code",
   "execution_count": 15,
   "metadata": {
    "_cell_guid": "f846eaa6-09e6-4c24-a7f8-ea47bf80ce70",
    "_uuid": "47aa3e6681695e32f63a2322f5722649121bb8be"
   },
   "outputs": [
    {
     "data": {
      "text/plain": [
       "[Text(0, 0, 'relative_compactness'),\n",
       " Text(0, 0, 'surface_area'),\n",
       " Text(0, 0, 'wall_area'),\n",
       " Text(0, 0, 'roof_area'),\n",
       " Text(0, 0, 'overall_height'),\n",
       " Text(0, 0, 'orientation'),\n",
       " Text(0, 0, 'glazing_area'),\n",
       " Text(0, 0, 'glazing_area_distribution'),\n",
       " Text(0, 0, 'heating_load')]"
      ]
     },
     "execution_count": 15,
     "metadata": {},
     "output_type": "execute_result"
    },
    {
     "data": {
      "image/png": "[encoded data removed]",
      "text/plain": [
       "<Figure size 432x288 with 2 Axes>"
      ]
     },
     "metadata": {
      "needs_background": "light"
     },
     "output_type": "display_data"
    }
   ],
   "source": [
    "fig = plt.figure()\n",
    "ax = fig.add_subplot(111)\n",
    "cax = ax.matshow(dataframe.corr(), vmin=-1, vmax=1)\n",
    "fig.colorbar(cax)\n",
    "ticks = numpy.arange(0,9,1)\n",
    "ax.set_xticks(ticks)\n",
    "ax.set_yticks(ticks)\n",
    "ax.set_xticklabels(dataframe.columns)\n",
    "ax.set_yticklabels(dataframe.columns)"
   ]
  },
  {
   "cell_type": "markdown",
   "metadata": {
    "_cell_guid": "ef94555d-424c-4bb0-afbe-d716303c3bce",
    "_uuid": "e77c06a2edbf18acc7df498a552ba98104a973cb"
   },
   "source": [
    "'overall_height' has the highest positive corelation as expected"
   ]
  },
  {
   "cell_type": "code",
   "execution_count": 16,
   "metadata": {},
   "outputs": [],
   "source": [
    "from sklearn.model_selection import cross_val_score\n",
    "from sklearn.model_selection import train_test_split\n",
    "from sklearn.model_selection import KFold"
   ]
  },
  {
   "cell_type": "code",
   "execution_count": 17,
   "metadata": {
    "_cell_guid": "15b815bc-95f5-41fa-a021-cbc9b0f482a4",
    "_uuid": "ee397c3943c85fcea473a09cdfe93f17a8f6038d"
   },
   "outputs": [
    {
     "name": "stdout",
     "output_type": "stream",
     "text": [
      "LiR: 0.894147 (0.064789)\n",
      "Ridge: 0.888898 (0.073554)\n",
      "Lasso: 0.739750 (0.185156)\n",
      "ElasticNet: 0.751113 (0.184069)\n",
      "Bag_Re: 0.969167 (0.082450)\n",
      "RandomForest: 0.969185 (0.082574)\n",
      "ExtraTreesRegressor: 0.969104 (0.082352)\n",
      "KNN: 0.885004 (0.194983)\n",
      "CART: 0.968717 (0.082255)\n",
      "SVM: 0.683841 (0.133142)\n"
     ]
    }
   ],
   "source": [
    "from sklearn.model_selection import cross_val_score\n",
    "num_instances = len(X)\n",
    "\n",
    "models = []\n",
    "models.append(('LiR', LinearRegression()))\n",
    "models.append(('Ridge', Ridge()))\n",
    "models.append(('Lasso', Lasso()))\n",
    "models.append(('ElasticNet', ElasticNet()))\n",
    "models.append(('Bag_Re', BaggingRegressor()))\n",
    "models.append(('RandomForest', RandomForestRegressor()))\n",
    "models.append(('ExtraTreesRegressor', ExtraTreesRegressor()))\n",
    "models.append(('KNN', KNeighborsRegressor()))\n",
    "models.append(('CART', DecisionTreeRegressor()))\n",
    "models.append(('SVM', SVR()))\n",
    "\n",
    "# Evaluations\n",
    "results = []\n",
    "names = []\n",
    "scoring = []\n",
    "\n",
    "for name, model in models:\n",
    "    # Fit the model\n",
    "    model.fit(X, Y)\n",
    "    \n",
    "    predictions = model.predict(X)\n",
    "    \n",
    "    # Evaluate the model\n",
    "    kfold = KFold(n_splits=10)\n",
    "    cv_results = cross_val_score(model, X, Y, cv=10)\n",
    "    results.append(cv_results)\n",
    "    names.append(name)\n",
    "    msg = \"%s: %f (%f)\" % (name, cv_results.mean(), cv_results.std())\n",
    "    print(msg)"
   ]
  },
  {
   "cell_type": "code",
   "execution_count": 18,
   "metadata": {
    "_cell_guid": "62486d28-bc76-4703-bead-659a52bfbec6",
    "_uuid": "59cf3f2f23e061f2b50887a4b5c3fedce2a1b940"
   },
   "outputs": [
    {
     "data": {
      "text/plain": [
       "[Text(0, 0, 'LiR'),\n",
       " Text(0, 0, 'Ridge'),\n",
       " Text(0, 0, 'Lasso'),\n",
       " Text(0, 0, 'ElasticNet'),\n",
       " Text(0, 0, 'Bag_Re'),\n",
       " Text(0, 0, 'RandomForest'),\n",
       " Text(0, 0, 'ExtraTreesRegressor'),\n",
       " Text(0, 0, 'KNN'),\n",
       " Text(0, 0, 'CART'),\n",
       " Text(0, 0, 'SVM')]"
      ]
     },
     "execution_count": 18,
     "metadata": {},
     "output_type": "execute_result"
    },
    {
     "data": {
      "image/png": "[encoded data removed]",
      "text/plain": [
       "<Figure size 432x288 with 1 Axes>"
      ]
     },
     "metadata": {
      "needs_background": "light"
     },
     "output_type": "display_data"
    }
   ],
   "source": [
    "#boxplot algorithm Comparison\n",
    "fig = plt.figure()\n",
    "fig.suptitle('Algorithm Comparison')\n",
    "ax = fig.add_subplot(111)\n",
    "plt.boxplot(results)\n",
    "ax.set_xticklabels(names)"
   ]
  },
  {
   "cell_type": "markdown",
   "metadata": {
    "_cell_guid": "804e425c-7113-457b-acd5-bb177f21dd4f",
    "_uuid": "ce9cbe66dc5d7e6d4ab586b15d21a0d95fb828b7"
   },
   "source": [
    "'ExtraTrees Regressor' and 'Random Forest' are the best estimators/models for 'heating_load'\n",
    " "
   ]
  },
  {
   "cell_type": "code",
   "execution_count": 19,
   "metadata": {
    "_cell_guid": "189fbd28-7c57-4ab3-afbc-7870030d1e51",
    "_uuid": "dc114ff71c18288feadc429c9d49c35254ff593a"
   },
   "outputs": [
    {
     "name": "stdout",
     "output_type": "stream",
     "text": [
      "LiR: 0.876461 (0.032728)\n",
      "Ridge: 0.870432 (0.036123)\n",
      "Lasso: 0.751754 (0.101792)\n",
      "ElasticNet: 0.762353 (0.098235)\n",
      "Bag_Re: 0.962673 (0.025359)\n",
      "RandomForest: 0.964445 (0.023486)\n",
      "ExtraTreesRegressor: 0.950768 (0.021915)\n",
      "KNN: 0.924107 (0.088863)\n",
      "CART: 0.954942 (0.020943)\n",
      "SVM: 0.703267 (0.079129)\n"
     ]
    }
   ],
   "source": [
    "# Evaluations\n",
    "results = []\n",
    "names = []\n",
    "scoring = []\n",
    "\n",
    "for name, model in models:\n",
    "    # Fit the model\n",
    "    model.fit(X, Y2)\n",
    "    \n",
    "    predictions = model.predict(X)\n",
    "    \n",
    "    # Evaluate the model\n",
    "    kfold = KFold(n_splits=10)\n",
    "    cv_results = cross_val_score(model, X, Y2, cv=10)\n",
    "    results.append(cv_results)\n",
    "    names.append(name)\n",
    "    msg = \"%s: %f (%f)\" % (name, cv_results.mean(), cv_results.std())\n",
    "    print(msg)\n",
    "    \n",
    "    \n"
   ]
  },
  {
   "cell_type": "code",
   "execution_count": 20,
   "metadata": {
    "_cell_guid": "5c0e206e-0f4c-4bbe-8147-7deb8e31262d",
    "_uuid": "e2a7b9f31ed9f1dc9cd59ef5a6d0604d8ed583c1"
   },
   "outputs": [
    {
     "data": {
      "image/png": "[encoded data removed]",
      "text/plain": [
       "<Figure size 432x288 with 1 Axes>"
      ]
     },
     "metadata": {
      "needs_background": "light"
     },
     "output_type": "display_data"
    }
   ],
   "source": [
    "#boxplot algorithm Comparison\n",
    "fig = plt.figure()\n",
    "fig.suptitle('Algorithm Comparison')\n",
    "ax = fig.add_subplot(111)\n",
    "plt.boxplot(results)\n",
    "ax.set_xticklabels(names)\n",
    "plt.show()\n"
   ]
  },
  {
   "cell_type": "markdown",
   "metadata": {
    "_cell_guid": "3270d5d7-44cb-4178-972e-63b09bbb8c47",
    "_uuid": "4fe6deafa7c6201a139d1a2dedb942dc533bcca9"
   },
   "source": [
    "And 'Random Forest' and 'Bagging Regressor' are the best estimators/models for 'cooling_load', they can be further explored and their hyperparameters tuned"
   ]
  },
  {
   "cell_type": "code",
   "execution_count": 21,
   "metadata": {
    "_cell_guid": "c7d7cd51-70a8-436d-b0df-63b9cf9ccff6",
    "_uuid": "62290e9e50789d76d379528f1543b3aea3936a30"
   },
   "outputs": [
    {
     "name": "stderr",
     "output_type": "stream",
     "text": [
      "C:\\Users\\Arnav\\Anaconda3\\envs\\gpu\\lib\\site-packages\\ipykernel_launcher.py:8: UserWarning: Update your `Dense` call to the Keras 2 API: `Dense(15, input_dim=8, activation=\"relu\", kernel_initializer=\"uniform\")`\n",
      "  \n",
      "C:\\Users\\Arnav\\Anaconda3\\envs\\gpu\\lib\\site-packages\\ipykernel_launcher.py:10: UserWarning: Update your `Dense` call to the Keras 2 API: `Dense(8, activation=\"relu\", kernel_constraint=<keras.con..., kernel_initializer=\"uniform\")`\n",
      "  # Remove the CWD from sys.path while we load stuff.\n",
      "C:\\Users\\Arnav\\Anaconda3\\envs\\gpu\\lib\\site-packages\\ipykernel_launcher.py:12: UserWarning: Update your `Dense` call to the Keras 2 API: `Dense(5, activation=\"relu\", kernel_initializer=\"uniform\")`\n",
      "  if sys.path[0] == '':\n",
      "C:\\Users\\Arnav\\Anaconda3\\envs\\gpu\\lib\\site-packages\\ipykernel_launcher.py:13: UserWarning: Update your `Dense` call to the Keras 2 API: `Dense(1, activation=\"relu\", kernel_initializer=\"uniform\")`\n",
      "  del sys.path[0]\n"
     ]
    },
    {
     "name": "stdout",
     "output_type": "stream",
     "text": [
      "score: 91.22%\n",
      "score: 76.78%\n",
      "score: 91.05%\n",
      "score: 90.99%\n",
      "score: 90.76%\n",
      "90.76% (+/- 0.00%)\n"
     ]
    }
   ],
   "source": [
    "# Define 10-fold Cross Valdation Test Harness\n",
    "kfold = KFold(n_splits=5, shuffle=True, random_state=seed)\n",
    "cvscores = []\n",
    "for train ,test in kfold.split(X,Y,groups=None):\n",
    "\n",
    "    # create model\n",
    "    model = Sequential()\n",
    "    model.add(Dense(15, input_dim=8, init='uniform', activation='relu'))\n",
    "    model.add(Dropout(0.2))\n",
    "    model.add(Dense(8, init='uniform', activation='relu', kernel_constraint=maxnorm(3)))\n",
    "    model.add(Dropout(0.2))\n",
    "    model.add(Dense(5, init='uniform', activation='relu'))\n",
    "    model.add(Dense(1, init='uniform', activation='relu'))\n",
    "\n",
    "    # Compile model\n",
    "    model.compile(loss='mean_absolute_error', optimizer='sgd')\n",
    "\n",
    "    # Fit the model\n",
    "    model.fit(X[train], Y[train], epochs=300, batch_size=10, verbose=0)\n",
    "\n",
    "    # Evaluate the model\n",
    "    scores = model.evaluate(X[test], Y[test], verbose=0)\n",
    "    print(\"%s: %.2f%%\" % (\"score\", 100-scores))\n",
    "cvscores.append(100-scores)\n",
    "print(\"%.2f%% (+/- %.2f%%)\" % (numpy.mean(cvscores), numpy.std(cvscores)))\n"
   ]
  },
  {
   "cell_type": "code",
   "execution_count": 22,
   "metadata": {
    "_cell_guid": "3f126419-84a1-4a8b-9aee-0a9289a9d373",
    "_uuid": "df44d80921afc6b70ab8716e454d362e7f4cb13e"
   },
   "outputs": [
    {
     "name": "stderr",
     "output_type": "stream",
     "text": [
      "C:\\Users\\Arnav\\Anaconda3\\envs\\gpu\\lib\\site-packages\\ipykernel_launcher.py:8: UserWarning: Update your `Dense` call to the Keras 2 API: `Dense(15, input_dim=8, activation=\"relu\", kernel_initializer=\"uniform\")`\n",
      "  \n",
      "C:\\Users\\Arnav\\Anaconda3\\envs\\gpu\\lib\\site-packages\\ipykernel_launcher.py:12: UserWarning: Update your `Dense` call to the Keras 2 API: `Dense(5, activation=\"relu\", kernel_initializer=\"uniform\")`\n",
      "  if sys.path[0] == '':\n",
      "C:\\Users\\Arnav\\Anaconda3\\envs\\gpu\\lib\\site-packages\\ipykernel_launcher.py:13: UserWarning: Update your `Dense` call to the Keras 2 API: `Dense(1, activation=\"relu\", kernel_initializer=\"uniform\")`\n",
      "  del sys.path[0]\n"
     ]
    },
    {
     "name": "stdout",
     "output_type": "stream",
     "text": [
      "score: 91.45%\n",
      "score: 91.44%\n",
      "score: 75.51%\n",
      "75.51% (+/- 0.00%)\n"
     ]
    }
   ],
   "source": [
    "# Define 10-fold Cross Valdation Test Harness\n",
    "kfold = KFold(n_splits=3, shuffle=True, random_state=seed)\n",
    "cvscores = []\n",
    "for train, test in kfold.split(X, Y2):\n",
    "\n",
    "    # create model\n",
    "    model = Sequential()\n",
    "    model.add(Dense(15, input_dim=8, init='uniform', activation='relu'))\n",
    "    #model.add(Dropout(0.2))\n",
    "    #model.add(Dense(8, init='uniform', activation='relu', kernel_constraint=maxnorm(3)))\n",
    "    #model.add(Dropout(0.2))\n",
    "    model.add(Dense(5, init='uniform', activation='relu'))\n",
    "    model.add(Dense(1, init='uniform', activation='relu'))\n",
    "\n",
    "    # Compile model\n",
    "    model.compile(loss='mean_absolute_error', optimizer='sgd')\n",
    "\n",
    "    # Fit the model\n",
    "    model.fit(X[train], Y2[train], epochs=300, batch_size=10, verbose=0)\n",
    "\n",
    "    # Evaluate the model\n",
    "    scores = model.evaluate(X[test], Y2[test], verbose=0)\n",
    "    print(\"%s: %.2f%%\" % (\"score\", 100-scores))\n",
    "cvscores.append(100-scores)\n",
    "print(\"%.2f%% (+/- %.2f%%)\" % (numpy.mean(cvscores), numpy.std(cvscores)))\n"
   ]
  },
  {
   "cell_type": "code",
   "execution_count": 23,
   "metadata": {},
   "outputs": [
    {
     "data": {
      "text/plain": [
       "[75.51171827316284]"
      ]
     },
     "execution_count": 23,
     "metadata": {},
     "output_type": "execute_result"
    }
   ],
   "source": [
    "cvscores"
   ]
  }
 ],
 "metadata": {
  "kernelspec": {
   "display_name": "gpu",
   "language": "python",
   "name": "gpu"
  },
  "language_info": {
   "codemirror_mode": {
    "name": "ipython",
    "version": 3
   },
   "file_extension": ".py",
   "mimetype": "text/x-python",
   "name": "python",
   "nbconvert_exporter": "python",
   "pygments_lexer": "ipython3",
   "version": "3.7.6"
  }
 },
 "nbformat": 4,
 "nbformat_minor": 1
}
